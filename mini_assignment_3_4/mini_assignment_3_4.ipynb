{
 "cells": [
  {
   "cell_type": "markdown",
   "metadata": {},
   "source": [
    "# **Mini Assignment Week 3/4**"
   ]
  },
  {
   "cell_type": "markdown",
   "metadata": {},
   "source": [
    "For this assignment, I tried to run the `IXI_HH_age_regression_resnet` application from the DLTK repository. The goal of this project is to:\n",
    "\n",
    "1. Train a model on the `IXI_HH` Data to predict age using brain scans\n",
    "\n",
    "2. Monitor the progress of the training with `tensorboard`\n",
    "\n",
    "3. Deploy the model we trained and evaluate performance\n",
    "\n",
    "Seeing as this must be done locally for memory reasons, the code & output shown will summarize what was done on my local machine. "
   ]
  },
  {
   "cell_type": "markdown",
   "metadata": {},
   "source": [
    "## **1. Train a model on the `IXI_HH` Data**"
   ]
  },
  {
   "cell_type": "markdown",
   "metadata": {},
   "source": [
    "Data was obtained using the `download_IXI_HH.py` script which successfully downloaded and unpacked all data (MRI scans) and information (age, sex, ID, height, weight, etc.) contained in a `demographic_HH.csv` file. \n",
    "\n",
    "With the data stored locally, the `train.py` script can be ran on the training data as shown below:"
   ]
  },
  {
   "cell_type": "markdown",
   "metadata": {},
   "source": [
    "`python train.py --data_csv <path-to-csv>`"
   ]
  },
  {
   "cell_type": "markdown",
   "metadata": {},
   "source": [
    "Regardless of what I did, this call (and variations of it) kept returning `RuntimeError: generator raised StopIteration`. This occurred whenever the `next()` function was called, which seems to generate a `StopIteration` message that triggers the error. After doing some research, it seems that this error was breaking code in ~2018, when python 3.7 was introduced. In this version of python, `StopIteration` calls were no longer silenced, and rather produced an error. Since the `applications` folder has not seen an update since 2017, this example was most likely built for an earlier version of python, and has not been updated to fix these changes. The error produced can be seen below: "
   ]
  },
  {
   "cell_type": "markdown",
   "metadata": {},
   "source": [
    "```json\n",
    "File \"/home/shane/anaconda3/lib/python3.7/site-packages/dltk/io/abstract_reader.py\", line 115, in f\n",
    "    ex = next(fn)\n",
    "\n",
    "StopIteration\n",
    "\n",
    "\n",
    "The above exception was the direct cause of the following exception:\n",
    "\n",
    "\n",
    "Traceback (most recent call last):\n",
    "\n",
    "  File \"/home/shane/anaconda3/lib/python3.7/site-packages/tensorflow_core/python/ops/script_ops.py\", line 235, in __call__\n",
    "    ret = func(*args)\n",
    "\n",
    "  File \"/home/shane/anaconda3/lib/python3.7/site-packages/tensorflow_core/python/data/ops/dataset_ops.py\", line 594, in generator_py_func\n",
    "    values = next(generator_state.get_iterator(iterator_id))\n",
    "\n",
    "RuntimeError: generator raised StopIteration\n",
    "\n",
    "\n",
    "\t [[{{node PyFunc}}]]\n",
    "\t [[IteratorGetNext]]\n",
    "```"
   ]
  },
  {
   "cell_type": "markdown",
   "metadata": {},
   "source": [
    "## **2. Monitor the progress of the training with `tensorboard`**"
   ]
  },
  {
   "cell_type": "markdown",
   "metadata": {},
   "source": [
    "TensorBoard is an application designed to allow the user to visualize and experiment with the model that they generate. Although I was not able to fully train a model due to the aforementioned issues, a model was partially generated (I guess the error wasn't thrown until midway through the training) and I was able to get the tensorboard running in the directory that was created using the code shown below."
   ]
  },
  {
   "cell_type": "markdown",
   "metadata": {},
   "source": [
    "`tensorboard --logdir <path-to-model>`"
   ]
  },
  {
   "cell_type": "markdown",
   "metadata": {},
   "source": [
    "### Page 1: Loss graph\n",
    "\n",
    "![](https://raw.githubusercontent.com/1010shane/Biof_399/master/mini_assignment_3_4/tensorboard1.png)\n",
    "\n",
    "### Page 2: Image Visualization\n",
    "\n",
    "![](https://raw.githubusercontent.com/1010shane/Biof_399/master/mini_assignment_3_4/tensorboard2.png)\n",
    "\n",
    "### Page 3: Model Graphs\n",
    "\n",
    "![](https://raw.githubusercontent.com/1010shane/Biof_399/master/mini_assignment_3_4/tensorboard3.png)"
   ]
  },
  {
   "cell_type": "markdown",
   "metadata": {},
   "source": [
    "## **3. Deploy the model we trained and evaluate performance**"
   ]
  },
  {
   "cell_type": "markdown",
   "metadata": {},
   "source": [
    "Although we were not able to generate a model,the DLTK creators provided a [link](http://www.doc.ic.ac.uk/~mrajchl/dltk_models/examples/applications/IXI_HH_age_regression.tar.gz) to a pretrained model that could be downloaded and used. I was able to successfully download and run this model, the output of which I have shown below."
   ]
  },
  {
   "cell_type": "raw",
   "metadata": {},
   "source": [
    "python -u deploy.py --model_path <path-to-model> > output.txt"
   ]
  },
  {
   "cell_type": "raw",
   "metadata": {},
   "source": [
    "Loading from /home/shane/Desktop/IXI_HH_age_regression/1510857419\n",
    "id=IXI566; pred=47.30 yrs; true=42.97 yrs; run time=2.36 s; \n",
    "id=IXI567; pred=32.05 yrs; true=28.56 yrs; run time=2.10 s; \n",
    "id=IXI568; pred=46.41 yrs; true=33.69 yrs; run time=2.20 s; \n",
    "id=IXI572; pred=49.43 yrs; true=41.95 yrs; run time=2.21 s; \n",
    "id=IXI575; pred=60.20 yrs; true=57.75 yrs; run time=2.45 s; \n",
    "id=IXI577; pred=69.16 yrs; true=64.19 yrs; run time=2.35 s; \n",
    "id=IXI586; pred=29.38 yrs; true=34.37 yrs; run time=2.44 s; \n",
    "id=IXI598; pred=56.67 yrs; true=52.89 yrs; run time=2.40 s; \n",
    "id=IXI599; pred=43.85 yrs; true=39.38 yrs; run time=2.21 s; \n",
    "id=IXI600; pred=49.38 yrs; true=38.96 yrs; run time=2.11 s; \n",
    "id=IXI601; pred=46.75 yrs; true=35.52 yrs; run time=2.17 s; \n",
    "id=IXI603; pred=67.21 yrs; true=66.02 yrs; run time=2.19 s; \n",
    "id=IXI605; pred=57.62 yrs; true=70.33 yrs; run time=2.54 s; \n",
    "id=IXI606; pred=58.93 yrs; true=60.54 yrs; run time=3.34 s; \n",
    "id=IXI608; pred=53.87 yrs; true=52.50 yrs; run time=2.91 s; \n",
    "id=IXI609; pred=41.77 yrs; true=29.00 yrs; run time=2.33 s; \n",
    "id=IXI610; pred=53.01 yrs; true=56.68 yrs; run time=2.36 s; \n",
    "id=IXI611; pred=33.22 yrs; true=28.87 yrs; run time=2.52 s; \n",
    "id=IXI612; pred=31.22 yrs; true=33.92 yrs; run time=2.43 s; \n",
    "id=IXI613; pred=32.13 yrs; true=25.59 yrs; run time=2.22 s; \n",
    "id=IXI614; pred=32.77 yrs; true=26.93 yrs; run time=2.21 s; \n",
    "id=IXI631; pred=51.02 yrs; true=41.30 yrs; run time=2.29 s; \n",
    "id=IXI632; pred=58.26 yrs; true=56.44 yrs; run time=2.26 s; \n",
    "id=IXI633; pred=35.69 yrs; true=36.71 yrs; run time=2.31 s; \n",
    "id=IXI634; pred=29.35 yrs; true=34.06 yrs; run time=2.31 s; \n",
    "id=IXI635; pred=26.11 yrs; true=25.53 yrs; run time=2.26 s; \n",
    "id=IXI636; pred=49.26 yrs; true=43.16 yrs; run time=2.22 s; \n",
    "id=IXI646; pred=72.36 yrs; true=71.21 yrs; run time=2.20 s; \n",
    "mean absolute err=5.292 yrs"
   ]
  },
  {
   "cell_type": "markdown",
   "metadata": {},
   "source": [
    "As we can see, the model generates three output per run on a testing datum: predicted, actual, and run time. The absolute mean error is also accounted for, which is +/- ~5.3 years. Although we did not ge the chance to trian the model, we can see that the one provided to us performed relatively well. "
   ]
  },
  {
   "cell_type": "markdown",
   "metadata": {},
   "source": [
    "# **Conclusion**\n",
    "\n",
    "The biggest take away from this exercise was the value of using a Tensorboard (as well as maintaining your repo). It makes the task of training & testing a bit less dry, and gives a visual representation of the model graphs which aid in visualization of our model. I will hope to use this to its full capacity for the final project, where we hopefully will not have any code/dependency issues when trying to create and train our model. "
   ]
  }
 ],
 "metadata": {
  "kernelspec": {
   "display_name": "Python 3",
   "language": "python",
   "name": "python3"
  },
  "language_info": {
   "codemirror_mode": {
    "name": "ipython",
    "version": 3
   },
   "file_extension": ".py",
   "mimetype": "text/x-python",
   "name": "python",
   "nbconvert_exporter": "python",
   "pygments_lexer": "ipython3",
   "version": "3.7.4"
  }
 },
 "nbformat": 4,
 "nbformat_minor": 4
}
